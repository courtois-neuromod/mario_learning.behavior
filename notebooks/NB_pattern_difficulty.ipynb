{
 "cells": [
  {
   "cell_type": "code",
   "execution_count": 5,
   "id": "dfcc9478",
   "metadata": {},
   "outputs": [],
   "source": [
    "from mario_scenes.load_data import load_scenes_info\n",
    "from mario_replays.load_data import load_replay_data\n",
    "import os\n",
    "import pandas as pd"
   ]
  },
  {
   "cell_type": "code",
   "execution_count": null,
   "id": "d9bf39cf",
   "metadata": {},
   "outputs": [
    {
     "name": "stdout",
     "output_type": "stream",
     "text": [
      "ppo_mario_ep-20\n",
      "ppo_mario_ep-2000\n"
     ]
    }
   ],
   "source": [
    "scenes_df = load_scenes_info(format='df')\n",
    "\n",
    "df_list = []\n",
    "sourcedata = '../../mario_learning.behavior/sourcedata/'\n",
    "output_csv = '../outputdata/clips_metadata.csv'\n",
    "if not os.path.exists(output_csv):    \n",
    "    for clips_dir in os.listdir(sourcedata):\n",
    "        if 'replays' not in clips_dir and '.' not in clips_dir: \n",
    "            print(clips_dir)\n",
    "            sidecars_df = load_replay_data(os.path.join(sourcedata, clips_dir), type='metadata')\n",
    "            \n",
    "            if \"StateClipCode\" in sidecars_df.columns:\n",
    "                sidecars_df = sidecars_df.rename(columns={\"StateClipCode\": \"ClipCode\"})\n",
    "            df_list.append(sidecars_df)\n",
    "\n",
    "    full_df = pd.concat(df_list)\n",
    "    full_df.loc[full_df[\"Model\"].isnull(), \"Model\"] = \"human\"\n",
    "\n",
    "    # for Model == 'human', we need a column Phase_stage with the value 'Early' or 'Late'. This value is determined by the ClipCode : if the ClipCode is below cutoff, it is 'Early', otherwise it is 'Late'. The cutoff is the median determined separately for each combination of Model='human', Subject and Phase (so Model='human', Subject=1, Phase='practice' has its own cutoff, etc...)\n",
    "    mask = full_df[\"Model\"].eq(\"human\")\n",
    "\n",
    "    # median ClipCode per (Subject, Phase) for human rows\n",
    "    med = (\n",
    "        full_df.loc[mask]\n",
    "            .groupby([\"Subject\", \"Phase\", \"LevelFullName\"])[\"ClipCode\"]\n",
    "            .transform(\"median\")\n",
    "    )\n",
    "\n",
    "    # assign Phase_stage without any Python-level loop\n",
    "    full_df.loc[mask, \"Phase_stage\"] = np.where(\n",
    "        full_df.loc[mask, \"ClipCode\"] < med,\n",
    "        \"Early\",\n",
    "        \"Late\"\n",
    "    )\n",
    "\n",
    "    full_df.to_csv(output_csv, index=False)\n",
    "else:\n",
    "    full_df = pd.read_csv(output_csv)\n",
    "full_df"
   ]
  },
  {
   "cell_type": "code",
   "execution_count": null,
   "id": "44240b06",
   "metadata": {},
   "outputs": [],
   "source": [
    "### Difficulty per pattern\n"
   ]
  },
  {
   "cell_type": "code",
   "execution_count": null,
   "id": "c33fac9d",
   "metadata": {},
   "outputs": [],
   "source": [
    "### Difficulty per scene cluster"
   ]
  }
 ],
 "metadata": {
  "kernelspec": {
   "display_name": "mario_learning",
   "language": "python",
   "name": "python3"
  },
  "language_info": {
   "codemirror_mode": {
    "name": "ipython",
    "version": 3
   },
   "file_extension": ".py",
   "mimetype": "text/x-python",
   "name": "python",
   "nbconvert_exporter": "python",
   "pygments_lexer": "ipython3",
   "version": "3.10.0"
  }
 },
 "nbformat": 4,
 "nbformat_minor": 5
}
